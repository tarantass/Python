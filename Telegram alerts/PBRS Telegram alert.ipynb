{
 "cells": [
  {
   "cell_type": "code",
   "execution_count": 4,
   "metadata": {},
   "outputs": [],
   "source": [
    "import requests\n",
    "import pandas as pd\n",
    "import numpy as np\n",
    "import pymssql\n",
    "import pytz\n",
    "from datetime import datetime"
   ]
  },
  {
   "cell_type": "code",
   "execution_count": 2,
   "metadata": {},
   "outputs": [],
   "source": [
    "tg_api_token=\"***\"\n",
    "tg_chat_id=\"***\""
   ]
  },
  {
   "cell_type": "code",
   "execution_count": 3,
   "metadata": {},
   "outputs": [],
   "source": [
    "def send_tg_message(text):\n",
    "    requests.post(\n",
    "        \"https://api.telegram.org/\" + \n",
    "        \"bot{}/sendMessage\".format(tg_api_token),\n",
    "        params=dict(chat_id=tg_chat_id,text=f\"<b>{text}</b>\", parse_mode=\"HTML\")\n",
    "    )"
   ]
  },
  {
   "cell_type": "code",
   "execution_count": null,
   "metadata": {},
   "outputs": [],
   "source": [
    "class connection_to_DB:\n",
    "    \n",
    "    ReportServerPB = pymssql.connect(server=\"***\",\n",
    "                                   user=\"***\",\n",
    "                                   password=\"***\",\n",
    "                                   database=\"***\",\n",
    "                                   autocommit=False)\n",
    "    def connection_to_MS(query: str,\n",
    "                        conn:pymsql._pymssql.Connection)-> pd.DataFrame:\n",
    "        \n",
    "        cursor=conn.cursor()\n",
    "        cursor.execute(query)\n",
    "        return pd.read_sql(query, conn)"
   ]
  },
  {
   "cell_type": "code",
   "execution_count": 2,
   "metadata": {},
   "outputs": [],
   "source": [
    "sql_RS='''\n",
    "SELECT LastStatus,LastRunTime,[Catalog].[Path]\n",
    "FROM Subscriptions\n",
    "LEFT JOIN [Catalog]\n",
    "ON Subscriptions.Report_OID = ReportServer.dbo.[Catalog].ItemID\n",
    "WHERE lastStatus<>'Completed Data Refresh';\n",
    "'''"
   ]
  },
  {
   "cell_type": "code",
   "execution_count": null,
   "metadata": {},
   "outputs": [],
   "source": [
    "df = connection_to_DB.connection_to_MS(query=sql_RS,\n",
    "                                      conn=connection_to_DB.ReportServerPB\n",
    "                                      )"
   ]
  },
  {
   "cell_type": "code",
   "execution_count": null,
   "metadata": {},
   "outputs": [],
   "source": [
    "tz=pytz.timezone('Asia/Vladivostok')\n",
    "now=datetime.now(tz).strftime(\"%d/%m%Y %H:%M:%S\")"
   ]
  },
  {
   "cell_type": "code",
   "execution_count": null,
   "metadata": {},
   "outputs": [],
   "source": [
    "line=\"Отчет от \"+str(now)\n",
    "for i in range(0,len(df)):\n",
    "    a=str(df['Path'][i])\n",
    "    b=str(df['LastRunTime'][i])\n",
    "    c=str(df['LastStatus'][i])\n",
    "    line=line+\"\\n\"+\"\\n\"+\"Ошибка №\"+str(i+1)+\"\\n\"+\"\\n\"+a+\"\\n\"+\"\\n\"+b+\"\\n\"+\"\\n\"+c++\"\\n\"+\"\\n\"+\"\\n\""
   ]
  },
  {
   "cell_type": "code",
   "execution_count": null,
   "metadata": {},
   "outputs": [],
   "source": [
    "send_tg_message(line)"
   ]
  }
 ],
 "metadata": {
  "kernelspec": {
   "display_name": "Python 3",
   "language": "python",
   "name": "python3"
  },
  "language_info": {
   "codemirror_mode": {
    "name": "ipython",
    "version": 3
   },
   "file_extension": ".py",
   "mimetype": "text/x-python",
   "name": "python",
   "nbconvert_exporter": "python",
   "pygments_lexer": "ipython3",
   "version": "3.8.2"
  }
 },
 "nbformat": 4,
 "nbformat_minor": 4
}
