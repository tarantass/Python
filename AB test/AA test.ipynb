{
 "cells": [
  {
   "cell_type": "code",
   "execution_count": 34,
   "id": "03fd35ec-327f-4f97-baa3-e35d741a799e",
   "metadata": {},
   "outputs": [],
   "source": [
    "import pandahouse\n",
    "import seaborn as sns\n",
    "import numpy as np\n",
    "import random\n",
    "from scipy import stats"
   ]
  },
  {
   "cell_type": "code",
   "execution_count": 9,
   "id": "ce3c8279-ae0e-46ea-9a6d-da720cf51ba0",
   "metadata": {},
   "outputs": [],
   "source": [
    "connection = {\n",
    "    'host': 'https://clickhouse.lab.karpov.courses',\n",
    "    'password': 'dpo_python_2020',\n",
    "    'user': 'student',\n",
    "    'database': 'simulator_20220220'}"
   ]
  },
  {
   "cell_type": "code",
   "execution_count": 12,
   "id": "a26e0fbc-3c55-48ee-bbf2-04c7eb5335b3",
   "metadata": {},
   "outputs": [],
   "source": [
    "q = \"\"\"\n",
    "SELECT exp_group, \n",
    "    user_id,\n",
    "    sum(action = 'like') as likes,\n",
    "    sum(action = 'view') as views,\n",
    "    likes/views as ctr\n",
    "FROM {db}.feed_actions \n",
    "WHERE toDate(time) between '2022-02-06' and '2022-02-12'\n",
    "    and exp_group in (2,3)\n",
    "GROUP BY exp_group, user_id\n",
    "\"\"\"\n",
    "\n",
    "df = pandahouse.read_clickhouse(q, connection=connection)"
   ]
  },
  {
   "cell_type": "code",
   "execution_count": 15,
   "id": "3b4e2645-2825-43a5-808b-8fc260c50bee",
   "metadata": {},
   "outputs": [
    {
     "data": {
      "text/html": [
       "<div>\n",
       "<style scoped>\n",
       "    .dataframe tbody tr th:only-of-type {\n",
       "        vertical-align: middle;\n",
       "    }\n",
       "\n",
       "    .dataframe tbody tr th {\n",
       "        vertical-align: top;\n",
       "    }\n",
       "\n",
       "    .dataframe thead th {\n",
       "        text-align: right;\n",
       "    }\n",
       "</style>\n",
       "<table border=\"1\" class=\"dataframe\">\n",
       "  <thead>\n",
       "    <tr style=\"text-align: right;\">\n",
       "      <th></th>\n",
       "      <th>user_id</th>\n",
       "      <th>likes</th>\n",
       "      <th>views</th>\n",
       "      <th>ctr</th>\n",
       "    </tr>\n",
       "    <tr>\n",
       "      <th>exp_group</th>\n",
       "      <th></th>\n",
       "      <th></th>\n",
       "      <th></th>\n",
       "      <th></th>\n",
       "    </tr>\n",
       "  </thead>\n",
       "  <tbody>\n",
       "    <tr>\n",
       "      <th>2</th>\n",
       "      <td>8480</td>\n",
       "      <td>8480</td>\n",
       "      <td>8480</td>\n",
       "      <td>8480</td>\n",
       "    </tr>\n",
       "    <tr>\n",
       "      <th>3</th>\n",
       "      <td>8569</td>\n",
       "      <td>8569</td>\n",
       "      <td>8569</td>\n",
       "      <td>8569</td>\n",
       "    </tr>\n",
       "  </tbody>\n",
       "</table>\n",
       "</div>"
      ],
      "text/plain": [
       "           user_id  likes  views   ctr\n",
       "exp_group                             \n",
       "2             8480   8480   8480  8480\n",
       "3             8569   8569   8569  8569"
      ]
     },
     "execution_count": 15,
     "metadata": {},
     "output_type": "execute_result"
    }
   ],
   "source": [
    "df.groupby('exp_group').count()"
   ]
  },
  {
   "cell_type": "code",
   "execution_count": 18,
   "id": "a9ea37d2-ce8b-493a-90fe-e19f44932117",
   "metadata": {},
   "outputs": [
    {
     "data": {
      "image/png": "[encoded data removed]",
      "text/plain": [
       "<Figure size 842.4x595.44 with 1 Axes>"
      ]
     },
     "metadata": {},
     "output_type": "display_data"
    }
   ],
   "source": [
    "sns.set(rc={'figure.figsize':(11.7,8.27)})\n",
    "\n",
    "groups = sns.histplot(data = df, \n",
    "              x='ctr', \n",
    "              hue='exp_group', \n",
    "              palette = ['r', 'b'],\n",
    "              alpha=0.5,\n",
    "              kde=False)"
   ]
  },
  {
   "cell_type": "code",
   "execution_count": 42,
   "id": "06c30d6e-f835-4c4f-b1a4-2bb99a29b52c",
   "metadata": {},
   "outputs": [],
   "source": [
    "def sample(vector1, vector2):\n",
    "    choices1 = np.random.choice(vector1, size=500, replace=True)\n",
    "    choices2 = np.random.choice(vector2, size=500, replace=True)\n",
    "    Pval = stats.ttest_ind(choices1,\n",
    "                choices2,\n",
    "                equal_var=False).pvalue\n",
    "    mean_test = choices1.mean()\n",
    "    return Pval, mean_test"
   ]
  },
  {
   "cell_type": "code",
   "execution_count": 95,
   "id": "db10a1a0-ae7d-4eb3-a18c-aff3a9cde9bc",
   "metadata": {},
   "outputs": [],
   "source": [
    "Pval = []\n",
    "for i in range(1,10000+1):\n",
    "    val = sample(df[df.exp_group == 3].ctr, df[df.exp_group == 2].ctr)\n",
    "    Pval.append(val)"
   ]
  },
  {
   "cell_type": "code",
   "execution_count": 96,
   "id": "008d4a5b-842e-4ec2-93b1-9abfae6e35cc",
   "metadata": {},
   "outputs": [
    {
     "data": {
      "image/png": "[encoded data removed]",
      "text/plain": [
       "<Figure size 576x216 with 1 Axes>"
      ]
     },
     "metadata": {},
     "output_type": "display_data"
    }
   ],
   "source": [
    "sns.set(rc={'figure.figsize':(8,3)})\n",
    "\n",
    "groups = sns.histplot(data = Pval)"
   ]
  },
  {
   "cell_type": "code",
   "execution_count": 119,
   "id": "b1bb4580-b84f-465d-a36d-566fba2ff292",
   "metadata": {},
   "outputs": [
    {
     "name": "stdout",
     "output_type": "stream",
     "text": [
      "P-value меньше 0,05: в следующем % случаев  5.71\n"
     ]
    }
   ],
   "source": [
    "Percent = len(list(filter(lambda score: score <= 0.05, Pval))) / len(Pval)\n",
    "\n",
    "print('P-value меньше 0,05: в следующем % случаев ', Percent*100)"
   ]
  },
  {
   "cell_type": "markdown",
   "id": "786b2402-da64-4a6c-8021-0bf8bbfac416",
   "metadata": {},
   "source": [
    "#### Проведенный тест подтвердил корректность сплита ->  5% уровень значимости ~ 5% случаев с P-value менее 5%"
   ]
  },
  {
   "cell_type": "code",
   "execution_count": null,
   "id": "037c519e-66d0-4038-b33c-6701c93181f5",
   "metadata": {},
   "outputs": [],
   "source": []
  }
 ],
 "metadata": {
  "kernelspec": {
   "display_name": "Python 3 (ipykernel)",
   "language": "python",
   "name": "python3"
  },
  "language_info": {
   "codemirror_mode": {
    "name": "ipython",
    "version": 3
   },
   "file_extension": ".py",
   "mimetype": "text/x-python",
   "name": "python",
   "nbconvert_exporter": "python",
   "pygments_lexer": "ipython3",
   "version": "3.8.10"
  }
 },
 "nbformat": 4,
 "nbformat_minor": 5
}
