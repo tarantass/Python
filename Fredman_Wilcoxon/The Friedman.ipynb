{
 "cells": [
  {
   "cell_type": "markdown",
   "metadata": {},
   "source": [
    "# Friedman test / Wilcoxon test\n",
    "### Исследовательский вопрос: Динамика среднедушевого ВВП в ценах 2015 года по странам изменяются синхронно?\n",
    "#### H0: Последовательные пары среднедушевого ВВП изменяются незначимо\n",
    "#### Ha: Хотя бы одна последовательная пара среднедушевого ВВП изменяются значимо\n",
    "#### Уровень значимости: 5%\n"
   ]
  },
  {
   "cell_type": "code",
   "execution_count": 104,
   "metadata": {},
   "outputs": [],
   "source": [
    "import numpy as np\n",
    "from scipy import stats as ss\n",
    "import pandas as pd\n",
    "import seaborn as sns\n",
    "from matplotlib import pyplot as plt"
   ]
  },
  {
   "cell_type": "code",
   "execution_count": 105,
   "metadata": {},
   "outputs": [],
   "source": [
    "df=pd.read_excel(r'Data.xls')\n",
    "df=df.dropna()"
   ]
  },
  {
   "cell_type": "code",
   "execution_count": 106,
   "metadata": {},
   "outputs": [
    {
     "data": {
      "text/html": [
       "<div>\n",
       "<style scoped>\n",
       "    .dataframe tbody tr th:only-of-type {\n",
       "        vertical-align: middle;\n",
       "    }\n",
       "\n",
       "    .dataframe tbody tr th {\n",
       "        vertical-align: top;\n",
       "    }\n",
       "\n",
       "    .dataframe thead th {\n",
       "        text-align: right;\n",
       "    }\n",
       "</style>\n",
       "<table border=\"1\" class=\"dataframe\">\n",
       "  <thead>\n",
       "    <tr style=\"text-align: right;\">\n",
       "      <th></th>\n",
       "      <th>Country Name</th>\n",
       "      <th>Country Code</th>\n",
       "      <th>Indicator Name</th>\n",
       "      <th>2015</th>\n",
       "      <th>2016</th>\n",
       "      <th>2017</th>\n",
       "      <th>2018</th>\n",
       "      <th>2019</th>\n",
       "      <th>2020</th>\n",
       "    </tr>\n",
       "  </thead>\n",
       "  <tbody>\n",
       "    <tr>\n",
       "      <th>1</th>\n",
       "      <td>Africa Eastern and Southern</td>\n",
       "      <td>AFE</td>\n",
       "      <td>GDP per capita (constant 2015 US$)</td>\n",
       "      <td>1507.800256</td>\n",
       "      <td>1501.671310</td>\n",
       "      <td>1507.821357</td>\n",
       "      <td>1507.861055</td>\n",
       "      <td>1499.256275</td>\n",
       "      <td>1418.380523</td>\n",
       "    </tr>\n",
       "    <tr>\n",
       "      <th>2</th>\n",
       "      <td>Afghanistan</td>\n",
       "      <td>AFG</td>\n",
       "      <td>GDP per capita (constant 2015 US$)</td>\n",
       "      <td>578.466353</td>\n",
       "      <td>575.334442</td>\n",
       "      <td>575.707053</td>\n",
       "      <td>568.827927</td>\n",
       "      <td>577.563058</td>\n",
       "      <td>553.489126</td>\n",
       "    </tr>\n",
       "    <tr>\n",
       "      <th>3</th>\n",
       "      <td>Africa Western and Central</td>\n",
       "      <td>AFW</td>\n",
       "      <td>GDP per capita (constant 2015 US$)</td>\n",
       "      <td>1886.248158</td>\n",
       "      <td>1838.271128</td>\n",
       "      <td>1830.381840</td>\n",
       "      <td>1834.366604</td>\n",
       "      <td>1843.558468</td>\n",
       "      <td>1778.989069</td>\n",
       "    </tr>\n",
       "    <tr>\n",
       "      <th>4</th>\n",
       "      <td>Angola</td>\n",
       "      <td>AGO</td>\n",
       "      <td>GDP per capita (constant 2015 US$)</td>\n",
       "      <td>4166.979833</td>\n",
       "      <td>3924.620471</td>\n",
       "      <td>3790.791565</td>\n",
       "      <td>3595.106667</td>\n",
       "      <td>3458.650512</td>\n",
       "      <td>3213.784200</td>\n",
       "    </tr>\n",
       "    <tr>\n",
       "      <th>5</th>\n",
       "      <td>Albania</td>\n",
       "      <td>ALB</td>\n",
       "      <td>GDP per capita (constant 2015 US$)</td>\n",
       "      <td>3952.801215</td>\n",
       "      <td>4090.363323</td>\n",
       "      <td>4249.793850</td>\n",
       "      <td>4433.741739</td>\n",
       "      <td>4549.457441</td>\n",
       "      <td>4424.310223</td>\n",
       "    </tr>\n",
       "  </tbody>\n",
       "</table>\n",
       "</div>"
      ],
      "text/plain": [
       "                  Country Name Country Code  \\\n",
       "1  Africa Eastern and Southern          AFE   \n",
       "2                  Afghanistan          AFG   \n",
       "3   Africa Western and Central          AFW   \n",
       "4                       Angola          AGO   \n",
       "5                      Albania          ALB   \n",
       "\n",
       "                       Indicator Name         2015         2016         2017  \\\n",
       "1  GDP per capita (constant 2015 US$)  1507.800256  1501.671310  1507.821357   \n",
       "2  GDP per capita (constant 2015 US$)   578.466353   575.334442   575.707053   \n",
       "3  GDP per capita (constant 2015 US$)  1886.248158  1838.271128  1830.381840   \n",
       "4  GDP per capita (constant 2015 US$)  4166.979833  3924.620471  3790.791565   \n",
       "5  GDP per capita (constant 2015 US$)  3952.801215  4090.363323  4249.793850   \n",
       "\n",
       "          2018         2019         2020  \n",
       "1  1507.861055  1499.256275  1418.380523  \n",
       "2   568.827927   577.563058   553.489126  \n",
       "3  1834.366604  1843.558468  1778.989069  \n",
       "4  3595.106667  3458.650512  3213.784200  \n",
       "5  4433.741739  4549.457441  4424.310223  "
      ]
     },
     "execution_count": 106,
     "metadata": {},
     "output_type": "execute_result"
    }
   ],
   "source": [
    "df.head(5)"
   ]
  },
  {
   "cell_type": "code",
   "execution_count": 107,
   "metadata": {},
   "outputs": [
    {
     "data": {
      "text/html": [
       "<div>\n",
       "<style scoped>\n",
       "    .dataframe tbody tr th:only-of-type {\n",
       "        vertical-align: middle;\n",
       "    }\n",
       "\n",
       "    .dataframe tbody tr th {\n",
       "        vertical-align: top;\n",
       "    }\n",
       "\n",
       "    .dataframe thead th {\n",
       "        text-align: right;\n",
       "    }\n",
       "</style>\n",
       "<table border=\"1\" class=\"dataframe\">\n",
       "  <thead>\n",
       "    <tr style=\"text-align: right;\">\n",
       "      <th></th>\n",
       "      <th>2015</th>\n",
       "      <th>2016</th>\n",
       "      <th>2017</th>\n",
       "      <th>2018</th>\n",
       "      <th>2019</th>\n",
       "      <th>2020</th>\n",
       "    </tr>\n",
       "  </thead>\n",
       "  <tbody>\n",
       "    <tr>\n",
       "      <th>count</th>\n",
       "      <td>228.000000</td>\n",
       "      <td>228.000000</td>\n",
       "      <td>228.000000</td>\n",
       "      <td>228.000000</td>\n",
       "      <td>228.000000</td>\n",
       "      <td>228.000000</td>\n",
       "    </tr>\n",
       "    <tr>\n",
       "      <th>mean</th>\n",
       "      <td>12554.503683</td>\n",
       "      <td>12730.239659</td>\n",
       "      <td>12985.319266</td>\n",
       "      <td>13240.799225</td>\n",
       "      <td>13383.151058</td>\n",
       "      <td>12439.715149</td>\n",
       "    </tr>\n",
       "    <tr>\n",
       "      <th>std</th>\n",
       "      <td>17290.467935</td>\n",
       "      <td>17485.166716</td>\n",
       "      <td>17806.263682</td>\n",
       "      <td>18167.566370</td>\n",
       "      <td>18257.840149</td>\n",
       "      <td>17089.597394</td>\n",
       "    </tr>\n",
       "    <tr>\n",
       "      <th>min</th>\n",
       "      <td>293.455172</td>\n",
       "      <td>293.659705</td>\n",
       "      <td>286.431522</td>\n",
       "      <td>281.970226</td>\n",
       "      <td>278.319365</td>\n",
       "      <td>270.691443</td>\n",
       "    </tr>\n",
       "    <tr>\n",
       "      <th>25%</th>\n",
       "      <td>1882.337907</td>\n",
       "      <td>1861.217149</td>\n",
       "      <td>1858.581816</td>\n",
       "      <td>1888.659104</td>\n",
       "      <td>1948.700264</td>\n",
       "      <td>1793.067100</td>\n",
       "    </tr>\n",
       "    <tr>\n",
       "      <th>50%</th>\n",
       "      <td>5402.245114</td>\n",
       "      <td>5492.510822</td>\n",
       "      <td>5643.405482</td>\n",
       "      <td>5755.591654</td>\n",
       "      <td>5674.792904</td>\n",
       "      <td>5219.360950</td>\n",
       "    </tr>\n",
       "    <tr>\n",
       "      <th>75%</th>\n",
       "      <td>13778.219062</td>\n",
       "      <td>14104.559124</td>\n",
       "      <td>14653.614077</td>\n",
       "      <td>15036.464611</td>\n",
       "      <td>15280.243075</td>\n",
       "      <td>14130.299083</td>\n",
       "    </tr>\n",
       "    <tr>\n",
       "      <th>max</th>\n",
       "      <td>101376.496574</td>\n",
       "      <td>103753.580730</td>\n",
       "      <td>103085.673723</td>\n",
       "      <td>104261.936716</td>\n",
       "      <td>104583.715896</td>\n",
       "      <td>101206.753768</td>\n",
       "    </tr>\n",
       "  </tbody>\n",
       "</table>\n",
       "</div>"
      ],
      "text/plain": [
       "                2015           2016           2017           2018  \\\n",
       "count     228.000000     228.000000     228.000000     228.000000   \n",
       "mean    12554.503683   12730.239659   12985.319266   13240.799225   \n",
       "std     17290.467935   17485.166716   17806.263682   18167.566370   \n",
       "min       293.455172     293.659705     286.431522     281.970226   \n",
       "25%      1882.337907    1861.217149    1858.581816    1888.659104   \n",
       "50%      5402.245114    5492.510822    5643.405482    5755.591654   \n",
       "75%     13778.219062   14104.559124   14653.614077   15036.464611   \n",
       "max    101376.496574  103753.580730  103085.673723  104261.936716   \n",
       "\n",
       "                2019           2020  \n",
       "count     228.000000     228.000000  \n",
       "mean    13383.151058   12439.715149  \n",
       "std     18257.840149   17089.597394  \n",
       "min       278.319365     270.691443  \n",
       "25%      1948.700264    1793.067100  \n",
       "50%      5674.792904    5219.360950  \n",
       "75%     15280.243075   14130.299083  \n",
       "max    104583.715896  101206.753768  "
      ]
     },
     "execution_count": 107,
     "metadata": {},
     "output_type": "execute_result"
    }
   ],
   "source": [
    "df.describe()"
   ]
  },
  {
   "cell_type": "code",
   "execution_count": 108,
   "metadata": {},
   "outputs": [
    {
     "data": {
      "text/plain": [
       "<seaborn.axisgrid.FacetGrid at 0x25afdc1f4c0>"
      ]
     },
     "execution_count": 108,
     "metadata": {},
     "output_type": "execute_result"
    },
    {
     "data": {
      "image/png": "[encoded data removed]",
      "text/plain": [
       "<Figure size 432x288 with 1 Axes>"
      ]
     },
     "metadata": {
      "needs_background": "light"
     },
     "output_type": "display_data"
    },
    {
     "data": {
      "image/png": "[encoded data removed]",
      "text/plain": [
       "<Figure size 421.5x360 with 1 Axes>"
      ]
     },
     "metadata": {
      "needs_background": "light"
     },
     "output_type": "display_data"
    }
   ],
   "source": [
    "sns.boxplot(data=df)\n",
    "\n",
    "sns.displot(df, stat='density', kde=True)"
   ]
  },
  {
   "cell_type": "code",
   "execution_count": 109,
   "metadata": {},
   "outputs": [
    {
     "data": {
      "text/plain": [
       "FriedmanchisquareResult(statistic=422.6265664160401, pvalue=3.932242627972049e-89)"
      ]
     },
     "execution_count": 109,
     "metadata": {},
     "output_type": "execute_result"
    }
   ],
   "source": [
    "ss.friedmanchisquare(df['2015'],df['2016'],df['2017'],df['2018'],df['2019'],df['2020'])"
   ]
  },
  {
   "cell_type": "markdown",
   "metadata": {},
   "source": [
    "###  Хотя бы одна пара ВВП отличаются значимо\n",
    "\n",
    "### Данные распределены ненормально"
   ]
  },
  {
   "cell_type": "code",
   "execution_count": 110,
   "metadata": {
    "scrolled": true
   },
   "outputs": [
    {
     "name": "stdout",
     "output_type": "stream",
     "text": [
      "  Column_1 Column_2                 P-value         Shapiro Column1\n",
      "0     2019     2020   8.195195848538284e-33   5.274368218810636e-20\n",
      "1     2018     2019   3.916238026397653e-18   4.292207886794983e-20\n",
      "2     2017     2018  1.1944938870980375e-23  4.4266134272249125e-20\n",
      "3     2016     2017  1.8415212895525513e-21   4.185203027273299e-20\n",
      "4     2015     2016   4.509156837887567e-18   3.893500369195888e-20\n"
     ]
    }
   ],
   "source": [
    "df_result=pd.DataFrame({'Column_1':[],'Column_2':[],'P-value':[], 'Shapiro Column1':[]})\n",
    "\n",
    "for i in range(3,len(df.columns)-1):\n",
    "    a_name=df.iloc[:,i].name\n",
    "    a=df[a_name]\n",
    "    b_name=df.iloc[:,i+1].name\n",
    "    b=df[b_name]\n",
    "    c=ss.wilcoxon(a,b)[1]\n",
    "    d=ss.shapiro(a)\n",
    "    df_result=pd.DataFrame(np.array([[a_name,b_name,c,d[1]]]), columns=['Column_1', 'Column_2', 'P-value','Shapiro Column1']).append(df_result, ignore_index=True)\n",
    "print(df_result)"
   ]
  },
  {
   "cell_type": "markdown",
   "metadata": {},
   "source": [
    "### Ненормальность распределения ВВП подтвержается на 1% уровне значимости тестом Шапиро-Вилка\n",
    "\n",
    "### H0 отклоняется. Все последовательные пары среднедушевого ВВП изменяются синхронно значимо на 1% уровне значимости."
   ]
  },
  {
   "cell_type": "markdown",
   "metadata": {},
   "source": [
    "1) Критерий Уилкоксона: https://medstatistic.ru/methods/methods3.html\n",
    "2) Тест Фридмана: https://sixsigmastudyguide.com/friedman-non-parametric-hypothesis-test/"
   ]
  }
 ],
 "metadata": {
  "kernelspec": {
   "display_name": "Python 3",
   "language": "python",
   "name": "python3"
  },
  "language_info": {
   "codemirror_mode": {
    "name": "ipython",
    "version": 3
   },
   "file_extension": ".py",
   "mimetype": "text/x-python",
   "name": "python",
   "nbconvert_exporter": "python",
   "pygments_lexer": "ipython3",
   "version": "3.8.2"
  }
 },
 "nbformat": 4,
 "nbformat_minor": 4
}
