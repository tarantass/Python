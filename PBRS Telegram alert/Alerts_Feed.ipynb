{
 "cells": [
  {
   "cell_type": "code",
   "execution_count": 86,
   "metadata": {},
   "outputs": [],
   "source": [
    "import telegram\n",
    "import numpy as np\n",
    "import matplotlib.pyplot as plt\n",
    "import seaborn as sns\n",
    "import io\n",
    "import pandas as pd\n",
    "import pandahouse\n",
    "from read_db.CH import Getch\n",
    "import os\n",
    "import datetime\n",
    "from datetime import datetime\n",
    "from datetime import date, timedelta"
   ]
  },
  {
   "cell_type": "code",
   "execution_count": 103,
   "metadata": {},
   "outputs": [],
   "source": [
    "bot = telegram.Bot(token='')\n",
    "chat_id = ''"
   ]
  },
  {
   "cell_type": "markdown",
   "metadata": {},
   "source": [
    "### Получение данных"
   ]
  },
  {
   "cell_type": "code",
   "execution_count": 88,
   "metadata": {},
   "outputs": [],
   "source": [
    "value_DAU=Getch('''select count(DISTINCT(user_id)) \n",
    "             from simulator_20220220.feed_actions where toDate(time) = today()-1\n",
    "            ''').df\n",
    "\n",
    "df_DAU_7=Getch('''select user_id, time\n",
    "             from simulator_20220220.feed_actions where toDate(time) < today() and toDate(time) > today()-8\n",
    "            ''').df"
   ]
  },
  {
   "cell_type": "code",
   "execution_count": 89,
   "metadata": {},
   "outputs": [],
   "source": [
    "value_View=Getch('''select count(user_id) \n",
    "             from simulator_20220220.feed_actions where toDate(time) = today()-1\n",
    "             and action='view'\n",
    "            ''').df\n",
    "\n",
    "df_view_7=Getch('''select user_id, time\n",
    "             from simulator_20220220.feed_actions where toDate(time) < today() and toDate(time) > today()-8\n",
    "             and action='view'\n",
    "            ''').df"
   ]
  },
  {
   "cell_type": "code",
   "execution_count": 90,
   "metadata": {},
   "outputs": [],
   "source": [
    "value_Like=Getch('''select count(user_id) \n",
    "             from simulator_20220220.feed_actions where toDate(time) = today()-1\n",
    "             and action='like'\n",
    "            ''').df\n",
    "\n",
    "df_like_72=Getch('''select user_id, time\n",
    "             from simulator_20220220.feed_actions where toDate(time) < today() and toDate(time) > today()-8\n",
    "             and action='like'\n",
    "            ''').df"
   ]
  },
  {
   "cell_type": "code",
   "execution_count": 91,
   "metadata": {},
   "outputs": [],
   "source": [
    "value_CTR=value_Like/value_View"
   ]
  },
  {
   "cell_type": "markdown",
   "metadata": {},
   "source": [
    "### Обработка данных"
   ]
  },
  {
   "cell_type": "code",
   "execution_count": 92,
   "metadata": {},
   "outputs": [],
   "source": [
    "def get_day(df):\n",
    "    df['Day']=pd.DatetimeIndex(df.time).date\n",
    "    return df"
   ]
  },
  {
   "cell_type": "code",
   "execution_count": 93,
   "metadata": {},
   "outputs": [],
   "source": [
    "df_DAU_7=get_day(df_DAU_7)\n",
    "df_DAU_7=df_DAU_7.groupby('Day').agg({\"user_id\": \"nunique\"}).reset_index()"
   ]
  },
  {
   "cell_type": "code",
   "execution_count": 94,
   "metadata": {},
   "outputs": [],
   "source": [
    "df_view_7=get_day(df_view_7)\n",
    "df_view_7=df_view_7.groupby('Day').agg({\"user_id\": \"count\"}).reset_index()"
   ]
  },
  {
   "cell_type": "code",
   "execution_count": 95,
   "metadata": {},
   "outputs": [],
   "source": [
    "df_like_7=get_day(df_like_72)\n",
    "df_like_7=df_like_7.groupby('Day').agg({\"user_id\": \"count\"}).reset_index()"
   ]
  },
  {
   "cell_type": "code",
   "execution_count": 96,
   "metadata": {},
   "outputs": [],
   "source": [
    "df_like_73=get_day(df_like_72)\n",
    "df_like_73=df_like_73.groupby('Day').agg({\"user_id\": \"count\"}).reset_index()\n",
    "df_CTR_7=df_like_73\n",
    "df_CTR_7['user_id']=df_CTR_7['user_id']/df_view_7['user_id']"
   ]
  },
  {
   "cell_type": "markdown",
   "metadata": {},
   "source": [
    "### Визуализация"
   ]
  },
  {
   "cell_type": "code",
   "execution_count": 97,
   "metadata": {},
   "outputs": [],
   "source": [
    "def send_lineplot():\n",
    "\n",
    "    sns.set()\n",
    "\n",
    "    fig, axes = plt.subplots(2,2,figsize=(16,8))\n",
    "    fig.tight_layout(pad=6.0)\n",
    "\n",
    "    sns.lineplot(data=df_DAU_7, x='Day', y='user_id', ax=axes[0,0])\n",
    "    axes[0,0].set_title('DAU',fontsize=20)\n",
    "    axes[0,0].tick_params(axis='x', rotation=45,labelsize=8)\n",
    "    axes[0,0].tick_params(axis='y',labelsize=8)\n",
    "    axes[0,0].set(ylabel=None, xlabel=None)\n",
    "\n",
    "    sns.lineplot(data=df_view_7, x='Day', y='user_id', ax=axes[0,1])\n",
    "    axes[0,1].set_title('Просмотры',fontsize=20)\n",
    "    axes[0,1].tick_params(axis='x', rotation=45,labelsize=8)\n",
    "    axes[0,1].tick_params(axis='y',labelsize=8)\n",
    "    axes[0,1].set(ylabel=None, xlabel=None)\n",
    "\n",
    "    sns.lineplot(data=df_like_7, x='Day', y='user_id', ax=axes[1,0])\n",
    "    axes[1,0].set_title('Лайки',fontsize=20)\n",
    "    axes[1,0].tick_params(axis='x', rotation=45,labelsize=8)\n",
    "    axes[1,0].tick_params(axis='y',labelsize=8)\n",
    "    axes[1,0].set(ylabel=None, xlabel=None)\n",
    "\n",
    "    sns.lineplot(data=df_CTR_7, x='Day', y='user_id', ax=axes[1,1])\n",
    "    axes[1,1].set_title('CTR',fontsize=20)\n",
    "    axes[1,1].tick_params(axis='x', rotation=45,labelsize=8)\n",
    "    axes[1,1].tick_params(axis='y',labelsize=8)\n",
    "    axes[1,1].set(ylabel=None, xlabel=None)\n",
    "\n",
    "    plot_object = io.BytesIO()\n",
    "    plt.savefig(plot_object)\n",
    "    plot_object.seek(0)\n",
    "    plot_object.name = 'test_plot.png'\n",
    "    plt.close()\n",
    "    bot.sendPhoto(chat_id=chat_id, photo=plot_object)"
   ]
  },
  {
   "cell_type": "markdown",
   "metadata": {},
   "source": [
    "### Показатели за предыдущий день"
   ]
  },
  {
   "cell_type": "code",
   "execution_count": 98,
   "metadata": {},
   "outputs": [],
   "source": [
    "def send_text():\n",
    "    \n",
    "    start='Отчет на ' + str((datetime.now()).strftime('%d-%m-%Y %H:%M:%S'))\n",
    "\n",
    "    value_DAU_tx='{0:,}'.format(value_DAU.loc[0, 'uniqExact(user_id)']).replace(',', ' ')\n",
    "    value_DAU_tx='DAU за '+str((date.today() - timedelta(days=1)).strftime('%d-%m-%Y'))+' равен '+str(value_DAU_tx)\n",
    "    \n",
    "    value_View_tx='{0:,}'.format(value_View.loc[0, 'count(user_id)']).replace(',', ' ')\n",
    "    value_View_tx='Просмотры за '+str((date.today() - timedelta(days=1)).strftime('%d-%m-%Y'))+' равны '+str(value_View_tx)\n",
    "\n",
    "    value_Like_tx='{0:,}'.format(value_Like.loc[0, 'count(user_id)']).replace(',', ' ')\n",
    "    value_Like_tx='Лайки за '+str((date.today() - timedelta(days=1)).strftime('%d-%m-%Y'))+' равны '+str(value_Like_tx)\n",
    "\n",
    "    value_CTR_tx=float('{:.2f}'.format(value_CTR.loc[0, 'count(user_id)']))\n",
    "    value_CTR_tx='CTR за '+str((date.today() - timedelta(days=1)).strftime('%d-%m-%Y'))+' равен '+str(value_CTR_tx)\n",
    "\n",
    "    end='Динамика показателей за последние 7 дней:'\n",
    "    \n",
    "    line=start+\"\\n\"+\"\\n\"+value_DAU_tx+\"\\n\"+value_View_tx+\"\\n\"+value_Like_tx+\"\\n\"+value_CTR_tx+\"\\n\"+\"\\n\"+end\n",
    "    \n",
    "    bot.sendMessage(chat_id=chat_id,text=line)"
   ]
  },
  {
   "cell_type": "code",
   "execution_count": 99,
   "metadata": {},
   "outputs": [],
   "source": [
    "def send():\n",
    "    send_text()\n",
    "    send_lineplot()"
   ]
  },
  {
   "cell_type": "code",
   "execution_count": 104,
   "metadata": {},
   "outputs": [],
   "source": [
    "try:\n",
    "    send()\n",
    "except Exception as e:\n",
    "    print(e)\n"
   ]
  }
 ],
 "metadata": {
  "kernelspec": {
   "display_name": "Python 3",
   "language": "python",
   "name": "python3"
  },
  "language_info": {
   "codemirror_mode": {
    "name": "ipython",
    "version": 3
   },
   "file_extension": ".py",
   "mimetype": "text/x-python",
   "name": "python",
   "nbconvert_exporter": "python",
   "pygments_lexer": "ipython3",
   "version": "3.8.2"
  }
 },
 "nbformat": 4,
 "nbformat_minor": 5
}
